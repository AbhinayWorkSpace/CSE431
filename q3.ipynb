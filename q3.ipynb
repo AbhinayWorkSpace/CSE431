{
 "cells": [
  {
   "cell_type": "code",
   "execution_count": 3,
   "metadata": {},
   "outputs": [],
   "source": [
    "nums = [0, 100000, 200000, 300000, 400000, 500000, 600000, 700000, 800000, 900000, 1000000, 1100000, 1200000, 1300000, \n",
    "        1400000, 1500000, 1600000, 1700000, 1800000, 1900000, 2000000]"
   ]
  },
  {
   "cell_type": "code",
   "execution_count": 4,
   "metadata": {},
   "outputs": [],
   "source": [
    "dict1_run1 = [0, 0.421, 0.44, 0.369, 0.498, 0.621, 0.797, 0.938, 1.104, 1.177, 1.323, 1.511, 1.885, 1.969, 2.109, 2.156, \n",
    "              2.428, 2.699, 2.68, 3.007, 3.258]"
   ]
  },
  {
   "cell_type": "code",
   "execution_count": 5,
   "metadata": {},
   "outputs": [],
   "source": [
    "dict1_run2 = [0, 0.395, 0.371, 0.344, 0.545, 0.59, 0.739, 0.875, 1.074, 1.301, 1.391, 1.541, 1.661, 1.982, 2.254, 2.154, \n",
    "              2.427, 3.052, 2.839, 2.933, 3.174]"
   ]
  },
  {
   "cell_type": "code",
   "execution_count": 6,
   "metadata": {},
   "outputs": [],
   "source": [
    "dict1_run3 = [0, 0.34, 0.28, 0.366, 0.574, 0.794, 0.868, 0.973, 1.754, 2.551, 2.753, 3.05, 3.282, 3.558, 3.814, 4.228, \n",
    "              4.484, 4.664, 5.021, 5.414, 5.594]"
   ]
  },
  {
   "cell_type": "code",
   "execution_count": 7,
   "metadata": {},
   "outputs": [],
   "source": [
    "dict1_run4 = [0, 0.371, 0.288, 0.403, 0.574, 0.706, 0.872, 1.046, 1.193, 1.318, 1.537, 1.715, 2.047, 2.013, 2.293, 2.417, \n",
    "              2.544, 2.771, 2.959, 3.277, 3.518]"
   ]
  },
  {
   "cell_type": "code",
   "execution_count": 8,
   "metadata": {},
   "outputs": [],
   "source": [
    "dict1_run5 = [0, 0.241, 0.364, 0.465, 0.725, 0.771, 1.368, 2.028, 2.235, 2.494, 2.756, 3.053, 3.415, 3.694, 3.976, 4.215, \n",
    "              4.525, 4.842, 5.063, 5.56, 5.941]"
   ]
  },
  {
   "cell_type": "code",
   "execution_count": 9,
   "metadata": {},
   "outputs": [],
   "source": [
    "dict1 = [0]*len(dict1_run1)\n",
    "for i in range(len(dict1_run1)):\n",
    "    dict1[i] = (dict1_run1[i]+dict1_run2[i]+dict1_run3[i]+dict1_run4[i]+dict1_run5[i])/5"
   ]
  },
  {
   "cell_type": "code",
   "execution_count": 10,
   "metadata": {},
   "outputs": [],
   "source": [
    "dict2_run1 = [0, 0.125, 0.331, 0.388, 0.344, 0.763, 1.04, 0.716, 1.121, 2.77, 1.37, 1.466, 1.577, 4.631, 1.786, 1.886, \n",
    "              2.133, 2.144, 8.211, 2.687, 2.564]"
   ]
  },
  {
   "cell_type": "code",
   "execution_count": 11,
   "metadata": {},
   "outputs": [],
   "source": [
    "dict2_run2 = [0, 0.161, 0.422, 0.411, 0.406, 0.746, 1.248, 0.981, 1.021, 2.831, 1.391, 1.779, 1.641, 4.583, 1.968, \n",
    "              2.13, 2.174, 2.287, 7.621, 2.585, 2.67]"
   ]
  },
  {
   "cell_type": "code",
   "execution_count": 12,
   "metadata": {},
   "outputs": [],
   "source": [
    "dict2_run3 = [0, 0.134, 0.299, 0.44, 0.399, 0.749, 1.152, 0.68, 0.655, 1.752, 1.03, 1.087, 1.134, 3.032, 1.369, 1.744, \n",
    "              2.421, 2.36, 7.77, 2.51, 2.789]"
   ]
  },
  {
   "cell_type": "code",
   "execution_count": 13,
   "metadata": {},
   "outputs": [],
   "source": [
    "dict2_run4 = [0, 0.196, 0.408, 0.457, 0.569, 0.853, 1.365, 0.926, 1.072, 2.749, 1.392, 1.627, 1.612, 4.567, 1.818, 1.967, \n",
    "              2.089, 2.333, 7.551, 2.99, 2.788]"
   ]
  },
  {
   "cell_type": "code",
   "execution_count": 14,
   "metadata": {},
   "outputs": [],
   "source": [
    "dict2_run5 = [0, 0.235, 0.42, 0.505, 0.415, 0.831, 1.327, 0.88, 1.04, 2.684, 1.231, 1.397, 1.551, 4.538, 1.803, 1.926, \n",
    "              2.18, 2.167, 7.764, 2.494, 2.645]"
   ]
  },
  {
   "cell_type": "code",
   "execution_count": 15,
   "metadata": {},
   "outputs": [],
   "source": [
    "dict2 = [0]*len(dict2_run1)\n",
    "for i in range(len(dict2_run1)):\n",
    "    dict2[i] = (dict2_run1[i]+dict2_run2[i]+dict2_run3[i]+dict2_run4[i]+dict2_run5[i])/5"
   ]
  },
  {
   "cell_type": "code",
   "execution_count": 16,
   "metadata": {},
   "outputs": [
    {
     "data": {
      "image/png": "[encoded data removed]",
      "text/plain": [
       "<Figure size 432x288 with 1 Axes>"
      ]
     },
     "metadata": {
      "needs_background": "light"
     },
     "output_type": "display_data"
    }
   ],
   "source": [
    "import matplotlib.pyplot as plt\n",
    "\n",
    "plt.plot(nums, dict1)\n",
    "plt.plot(nums, dict2)\n",
    "plt.legend(['dict1', 'dict2'])\n",
    "\n",
    "plt.ylabel(\"Time\")\n",
    "plt.xlabel(\"Number of n\")\n",
    "plt.show()"
   ]
  },
  {
   "cell_type": "code",
   "execution_count": null,
   "metadata": {},
   "outputs": [],
   "source": []
  }
 ],
 "metadata": {
  "kernelspec": {
   "display_name": "Python 3",
   "language": "python",
   "name": "python3"
  },
  "language_info": {
   "codemirror_mode": {
    "name": "ipython",
    "version": 3
   },
   "file_extension": ".py",
   "mimetype": "text/x-python",
   "name": "python",
   "nbconvert_exporter": "python",
   "pygments_lexer": "ipython3",
   "version": "3.8.3"
  }
 },
 "nbformat": 4,
 "nbformat_minor": 4
}
